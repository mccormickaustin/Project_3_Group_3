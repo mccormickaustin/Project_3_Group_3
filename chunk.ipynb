{
 "cells": [
  {
   "cell_type": "code",
   "execution_count": 4,
   "id": "5c480a03",
   "metadata": {},
   "outputs": [
    {
     "name": "stdout",
     "output_type": "stream",
     "text": [
      "Error: Input file '../recommendation.csv' not found.\n"
     ]
    }
   ],
   "source": [
    "import os\n",
    "\n",
    "def chunk_file(input_filepath, chunk_size_mb=90):\n",
    "    \"\"\"\n",
    "    Chunks a text file into smaller files of approximately the specified size.\n",
    "\n",
    "    Args:\n",
    "        input_filepath (str): The path to the input text file.\n",
    "        chunk_size_mb (int): The approximate size of each chunk in megabytes.\n",
    "    \"\"\"\n",
    "    chunk_size_bytes = chunk_size_mb * 1024 * 1024\n",
    "    file_number = 1\n",
    "    output_dir = \"chunks\"  # Directory to save the chunks\n",
    "\n",
    "    if not os.path.exists(output_dir):\n",
    "        os.makedirs(output_dir)\n",
    "\n",
    "    try:\n",
    "        with open(input_filepath, 'r') as infile:\n",
    "            while True:\n",
    "                outfile_path = os.path.join(output_dir, f\"chunk_{file_number}.txt\")\n",
    "                current_chunk_size = 0\n",
    "                with open(outfile_path, 'w') as outfile:\n",
    "                    while current_chunk_size < chunk_size_bytes:\n",
    "                        line = infile.readline()\n",
    "                        if not line:\n",
    "                            break  # End of the input file\n",
    "                        outfile.write(line)\n",
    "                        current_chunk_size += len(line.encode('utf-8'))  # Approximate size\n",
    "\n",
    "                if current_chunk_size > 0:\n",
    "                    print(f\"Created: {outfile_path} (approx. {current_chunk_size / (1024 * 1024):.2f} MB)\")\n",
    "                    file_number += 1\n",
    "                else:\n",
    "                    break  # Reached the end of the input file\n",
    "\n",
    "        print(\"File chunking complete.\")\n",
    "\n",
    "    except FileNotFoundError:\n",
    "        print(f\"Error: Input file '{input_filepath}' not found.\")\n",
    "    except Exception as e:\n",
    "        print(f\"An error occurred: {e}\")\n",
    "\n",
    "# Example usage (assuming 'recommendation.csv' is in the Colab environment)\n",
    "input_file = '../recommendation.csv'\n",
    "chunk_file(input_file)"
   ]
  }
 ],
 "metadata": {
  "kernelspec": {
   "display_name": "base",
   "language": "python",
   "name": "python3"
  },
  "language_info": {
   "codemirror_mode": {
    "name": "ipython",
    "version": 3
   },
   "file_extension": ".py",
   "mimetype": "text/x-python",
   "name": "python",
   "nbconvert_exporter": "python",
   "pygments_lexer": "ipython3",
   "version": "3.12.7"
  }
 },
 "nbformat": 4,
 "nbformat_minor": 5
}
