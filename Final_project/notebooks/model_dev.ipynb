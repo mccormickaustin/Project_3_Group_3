{
 "cells": [
  {
   "cell_type": "markdown",
   "id": "6ff35480",
   "metadata": {},
   "source": [
    "Step 1: Load the Data"
   ]
  },
  {
   "cell_type": "code",
   "execution_count": 110,
   "id": "0ebc9ef4",
   "metadata": {},
   "outputs": [
    {
     "name": "stdout",
     "output_type": "stream",
     "text": [
      "Games shape: (50872, 13)\n",
      "Metadata shape: (50872, 3)\n"
     ]
    },
    {
     "data": {
      "application/vnd.microsoft.datawrangler.viewer.v0+json": {
       "columns": [
        {
         "name": "index",
         "rawType": "int64",
         "type": "integer"
        },
        {
         "name": "app_id",
         "rawType": "int64",
         "type": "integer"
        },
        {
         "name": "title",
         "rawType": "object",
         "type": "string"
        },
        {
         "name": "date_release",
         "rawType": "object",
         "type": "string"
        },
        {
         "name": "win",
         "rawType": "bool",
         "type": "boolean"
        },
        {
         "name": "mac",
         "rawType": "bool",
         "type": "boolean"
        },
        {
         "name": "linux",
         "rawType": "bool",
         "type": "boolean"
        },
        {
         "name": "rating",
         "rawType": "object",
         "type": "string"
        },
        {
         "name": "positive_ratio",
         "rawType": "int64",
         "type": "integer"
        },
        {
         "name": "user_reviews",
         "rawType": "int64",
         "type": "integer"
        },
        {
         "name": "price_final",
         "rawType": "float64",
         "type": "float"
        },
        {
         "name": "price_original",
         "rawType": "float64",
         "type": "float"
        },
        {
         "name": "discount",
         "rawType": "float64",
         "type": "float"
        },
        {
         "name": "steam_deck",
         "rawType": "bool",
         "type": "boolean"
        }
       ],
       "conversionMethod": "pd.DataFrame",
       "ref": "44a3bf91-c564-43ca-abf4-3c0262e2b77b",
       "rows": [
        [
         "0",
         "13500",
         "Prince of Persia: Warrior Within™",
         "2008-11-21",
         "True",
         "False",
         "False",
         "Very Positive",
         "84",
         "2199",
         "9.99",
         "9.99",
         "0.0",
         "True"
        ],
        [
         "1",
         "22364",
         "BRINK: Agents of Change",
         "2011-08-03",
         "True",
         "False",
         "False",
         "Positive",
         "85",
         "21",
         "2.99",
         "2.99",
         "0.0",
         "True"
        ],
        [
         "2",
         "113020",
         "Monaco: What's Yours Is Mine",
         "2013-04-24",
         "True",
         "True",
         "True",
         "Very Positive",
         "92",
         "3722",
         "14.99",
         "14.99",
         "0.0",
         "True"
        ],
        [
         "3",
         "226560",
         "Escape Dead Island",
         "2014-11-18",
         "True",
         "False",
         "False",
         "Mixed",
         "61",
         "873",
         "14.99",
         "14.99",
         "0.0",
         "True"
        ],
        [
         "4",
         "249050",
         "Dungeon of the ENDLESS™",
         "2014-10-27",
         "True",
         "True",
         "False",
         "Very Positive",
         "88",
         "8784",
         "11.99",
         "11.99",
         "0.0",
         "True"
        ]
       ],
       "shape": {
        "columns": 13,
        "rows": 5
       }
      },
      "text/html": [
       "<div>\n",
       "<style scoped>\n",
       "    .dataframe tbody tr th:only-of-type {\n",
       "        vertical-align: middle;\n",
       "    }\n",
       "\n",
       "    .dataframe tbody tr th {\n",
       "        vertical-align: top;\n",
       "    }\n",
       "\n",
       "    .dataframe thead th {\n",
       "        text-align: right;\n",
       "    }\n",
       "</style>\n",
       "<table border=\"1\" class=\"dataframe\">\n",
       "  <thead>\n",
       "    <tr style=\"text-align: right;\">\n",
       "      <th></th>\n",
       "      <th>app_id</th>\n",
       "      <th>title</th>\n",
       "      <th>date_release</th>\n",
       "      <th>win</th>\n",
       "      <th>mac</th>\n",
       "      <th>linux</th>\n",
       "      <th>rating</th>\n",
       "      <th>positive_ratio</th>\n",
       "      <th>user_reviews</th>\n",
       "      <th>price_final</th>\n",
       "      <th>price_original</th>\n",
       "      <th>discount</th>\n",
       "      <th>steam_deck</th>\n",
       "    </tr>\n",
       "  </thead>\n",
       "  <tbody>\n",
       "    <tr>\n",
       "      <th>0</th>\n",
       "      <td>13500</td>\n",
       "      <td>Prince of Persia: Warrior Within™</td>\n",
       "      <td>2008-11-21</td>\n",
       "      <td>True</td>\n",
       "      <td>False</td>\n",
       "      <td>False</td>\n",
       "      <td>Very Positive</td>\n",
       "      <td>84</td>\n",
       "      <td>2199</td>\n",
       "      <td>9.99</td>\n",
       "      <td>9.99</td>\n",
       "      <td>0.0</td>\n",
       "      <td>True</td>\n",
       "    </tr>\n",
       "    <tr>\n",
       "      <th>1</th>\n",
       "      <td>22364</td>\n",
       "      <td>BRINK: Agents of Change</td>\n",
       "      <td>2011-08-03</td>\n",
       "      <td>True</td>\n",
       "      <td>False</td>\n",
       "      <td>False</td>\n",
       "      <td>Positive</td>\n",
       "      <td>85</td>\n",
       "      <td>21</td>\n",
       "      <td>2.99</td>\n",
       "      <td>2.99</td>\n",
       "      <td>0.0</td>\n",
       "      <td>True</td>\n",
       "    </tr>\n",
       "    <tr>\n",
       "      <th>2</th>\n",
       "      <td>113020</td>\n",
       "      <td>Monaco: What's Yours Is Mine</td>\n",
       "      <td>2013-04-24</td>\n",
       "      <td>True</td>\n",
       "      <td>True</td>\n",
       "      <td>True</td>\n",
       "      <td>Very Positive</td>\n",
       "      <td>92</td>\n",
       "      <td>3722</td>\n",
       "      <td>14.99</td>\n",
       "      <td>14.99</td>\n",
       "      <td>0.0</td>\n",
       "      <td>True</td>\n",
       "    </tr>\n",
       "    <tr>\n",
       "      <th>3</th>\n",
       "      <td>226560</td>\n",
       "      <td>Escape Dead Island</td>\n",
       "      <td>2014-11-18</td>\n",
       "      <td>True</td>\n",
       "      <td>False</td>\n",
       "      <td>False</td>\n",
       "      <td>Mixed</td>\n",
       "      <td>61</td>\n",
       "      <td>873</td>\n",
       "      <td>14.99</td>\n",
       "      <td>14.99</td>\n",
       "      <td>0.0</td>\n",
       "      <td>True</td>\n",
       "    </tr>\n",
       "    <tr>\n",
       "      <th>4</th>\n",
       "      <td>249050</td>\n",
       "      <td>Dungeon of the ENDLESS™</td>\n",
       "      <td>2014-10-27</td>\n",
       "      <td>True</td>\n",
       "      <td>True</td>\n",
       "      <td>False</td>\n",
       "      <td>Very Positive</td>\n",
       "      <td>88</td>\n",
       "      <td>8784</td>\n",
       "      <td>11.99</td>\n",
       "      <td>11.99</td>\n",
       "      <td>0.0</td>\n",
       "      <td>True</td>\n",
       "    </tr>\n",
       "  </tbody>\n",
       "</table>\n",
       "</div>"
      ],
      "text/plain": [
       "   app_id                              title date_release   win    mac  linux  \\\n",
       "0   13500  Prince of Persia: Warrior Within™   2008-11-21  True  False  False   \n",
       "1   22364            BRINK: Agents of Change   2011-08-03  True  False  False   \n",
       "2  113020       Monaco: What's Yours Is Mine   2013-04-24  True   True   True   \n",
       "3  226560                 Escape Dead Island   2014-11-18  True  False  False   \n",
       "4  249050            Dungeon of the ENDLESS™   2014-10-27  True   True  False   \n",
       "\n",
       "          rating  positive_ratio  user_reviews  price_final  price_original  \\\n",
       "0  Very Positive              84          2199         9.99            9.99   \n",
       "1       Positive              85            21         2.99            2.99   \n",
       "2  Very Positive              92          3722        14.99           14.99   \n",
       "3          Mixed              61           873        14.99           14.99   \n",
       "4  Very Positive              88          8784        11.99           11.99   \n",
       "\n",
       "   discount  steam_deck  \n",
       "0       0.0        True  \n",
       "1       0.0        True  \n",
       "2       0.0        True  \n",
       "3       0.0        True  \n",
       "4       0.0        True  "
      ]
     },
     "execution_count": 110,
     "metadata": {},
     "output_type": "execute_result"
    }
   ],
   "source": [
    "import pandas as pd\n",
    "\n",
    "# Load game details and metadata\n",
    "games = pd.read_csv('../data/games.csv')\n",
    "metadata = pd.read_json('../data/games_metadata.json', lines=True)\n",
    "\n",
    "# Preview the data\n",
    "print(\"Games shape:\", games.shape)\n",
    "print(\"Metadata shape:\", metadata.shape)\n",
    "games.head()\n"
   ]
  },
  {
   "cell_type": "code",
   "execution_count": 111,
   "id": "2c3ca9a6",
   "metadata": {},
   "outputs": [
    {
     "name": "stdout",
     "output_type": "stream",
     "text": [
      "['app_id', 'title', 'date_release', 'win', 'mac', 'linux', 'rating', 'positive_ratio', 'user_reviews', 'price_final', 'price_original', 'discount', 'steam_deck']\n"
     ]
    }
   ],
   "source": [
    "print(games.columns.tolist())\n"
   ]
  },
  {
   "cell_type": "markdown",
   "id": "ff8d55af",
   "metadata": {},
   "source": [
    "Merge Datasets on app_id"
   ]
  },
  {
   "cell_type": "code",
   "execution_count": 112,
   "id": "109731e5",
   "metadata": {},
   "outputs": [],
   "source": [
    "# Merge base game info and metadata\n",
    "merged_df = pd.merge(games, metadata, on='app_id')\n",
    "\n",
    "# Now merge extra platform/price/date info from games.csv\n",
    "columns_to_add = ['app_id', 'date_release', 'win', 'mac', 'linux', 'price_final', 'user_reviews']\n",
    "merged_df = pd.merge(merged_df, games[columns_to_add], on='app_id', how='left')\n"
   ]
  },
  {
   "cell_type": "code",
   "execution_count": null,
   "id": "50b2cb0e",
   "metadata": {},
   "outputs": [
    {
     "name": "stdout",
     "output_type": "stream",
     "text": [
      "['app_id', 'title', 'date_release_x', 'win_x', 'mac_x', 'linux_x', 'rating', 'positive_ratio', 'user_reviews_x', 'price_final_x', 'price_original', 'discount', 'steam_deck', 'description', 'tags', 'date_release_y', 'win_y', 'mac_y', 'linux_y', 'price_final_y', 'user_reviews_y']\n"
     ]
    }
   ],
   "source": [
    "print(merged_df.columns.tolist())"
   ]
  },
  {
   "cell_type": "markdown",
   "id": "c40701b3",
   "metadata": {},
   "source": [
    "Create combined_features for TF-IDF"
   ]
  },
  {
   "cell_type": "code",
   "execution_count": 114,
   "id": "fa5e1a5b",
   "metadata": {},
   "outputs": [
    {
     "data": {
      "application/vnd.microsoft.datawrangler.viewer.v0+json": {
       "columns": [
        {
         "name": "index",
         "rawType": "int64",
         "type": "integer"
        },
        {
         "name": "title",
         "rawType": "object",
         "type": "string"
        },
        {
         "name": "mood",
         "rawType": "object",
         "type": "string"
        },
        {
         "name": "combined_features",
         "rawType": "object",
         "type": "string"
        }
       ],
       "conversionMethod": "pd.DataFrame",
       "ref": "34b584ec-7e47-44dc-ac06-b88e36ca05bf",
       "rows": [
        [
         "0",
         "Prince of Persia: Warrior Within™",
         "fun",
         "['Action', 'Adventure', 'Parkour', 'Third Person', 'Great Soundtrack', 'Singleplayer', 'Platformer', 'Time Travel', 'Atmospheric', 'Classic', 'Hack and Slash', 'Time Manipulation', 'Gore', 'Fantasy', 'Story Rich', 'Dark', 'Open World', 'Controller', 'Dark Fantasy', 'Puzzle'] Enter the dark underworld of Prince of Persia Warrior Within, the sword-slashing sequel to the critically acclaimed Prince of Persia: The Sands of Time™. Hunted by Dahaka, an immortal incarnation of Fate seeking divine retribution, the Prince embarks upon a path of both carnage and mystery to defy his preordained death."
        ],
        [
         "1",
         "BRINK: Agents of Change",
         "general",
         "['Action'] "
        ],
        [
         "2",
         "Monaco: What's Yours Is Mine",
         "fun",
         "['Co-op', 'Stealth', 'Indie', 'Heist', 'Local Co-Op', 'Strategy', 'Online Co-Op', 'Top-Down', 'Action', 'Multiplayer', 'Crime', 'Casual', 'Great Soundtrack', 'Adventure', 'Pixel Graphics', 'Local Multiplayer', 'Controller', '2D', 'Singleplayer', 'Loot'] Monaco: What's Yours Is Mine is a single player or co-op heist game. Assemble a crack team of thieves, case the joint, and pull off the perfect heist."
        ],
        [
         "3",
         "Escape Dead Island",
         "horror",
         "['Zombies', 'Adventure', 'Survival', 'Action', 'Third Person', 'Open World', 'Gore', 'Horror', 'Singleplayer', 'Multiplayer', 'Cartoony', 'Hack and Slash', 'Stealth', 'Co-op', 'Atmospheric', 'Survival Horror', 'Third-Person Shooter', 'Anime'] Escape Dead Island is a Survival-Mystery adventure that lets players delve into the Dead Island universe and unravel the origins of the zombie outbreak."
        ],
        [
         "4",
         "Dungeon of the ENDLESS™",
         "fun",
         "['Roguelike', 'Strategy', 'Tower Defense', 'Pixel Graphics', 'Indie', 'RPG', 'Sci-fi', 'Dungeon Crawler', 'Adventure', 'Perma Death', 'Procedural Generation', 'Resource Management', 'Difficult', 'Co-op', 'Roguelite', 'Survival', 'Replay Value', 'Great Soundtrack', 'Singleplayer', '2D'] Dungeon of the Endless is a Rogue-Like Dungeon-Defense game, in which the player and their team of heroes must protect the generator of their crashed ship while exploring an ever-expanding dungeon, all while facing waves of monsters and special events as they try to find their way out..."
        ]
       ],
       "shape": {
        "columns": 3,
        "rows": 5
       }
      },
      "text/html": [
       "<div>\n",
       "<style scoped>\n",
       "    .dataframe tbody tr th:only-of-type {\n",
       "        vertical-align: middle;\n",
       "    }\n",
       "\n",
       "    .dataframe tbody tr th {\n",
       "        vertical-align: top;\n",
       "    }\n",
       "\n",
       "    .dataframe thead th {\n",
       "        text-align: right;\n",
       "    }\n",
       "</style>\n",
       "<table border=\"1\" class=\"dataframe\">\n",
       "  <thead>\n",
       "    <tr style=\"text-align: right;\">\n",
       "      <th></th>\n",
       "      <th>title</th>\n",
       "      <th>mood</th>\n",
       "      <th>combined_features</th>\n",
       "    </tr>\n",
       "  </thead>\n",
       "  <tbody>\n",
       "    <tr>\n",
       "      <th>0</th>\n",
       "      <td>Prince of Persia: Warrior Within™</td>\n",
       "      <td>fun</td>\n",
       "      <td>['Action', 'Adventure', 'Parkour', 'Third Pers...</td>\n",
       "    </tr>\n",
       "    <tr>\n",
       "      <th>1</th>\n",
       "      <td>BRINK: Agents of Change</td>\n",
       "      <td>general</td>\n",
       "      <td>['Action']</td>\n",
       "    </tr>\n",
       "    <tr>\n",
       "      <th>2</th>\n",
       "      <td>Monaco: What's Yours Is Mine</td>\n",
       "      <td>fun</td>\n",
       "      <td>['Co-op', 'Stealth', 'Indie', 'Heist', 'Local ...</td>\n",
       "    </tr>\n",
       "    <tr>\n",
       "      <th>3</th>\n",
       "      <td>Escape Dead Island</td>\n",
       "      <td>horror</td>\n",
       "      <td>['Zombies', 'Adventure', 'Survival', 'Action',...</td>\n",
       "    </tr>\n",
       "    <tr>\n",
       "      <th>4</th>\n",
       "      <td>Dungeon of the ENDLESS™</td>\n",
       "      <td>fun</td>\n",
       "      <td>['Roguelike', 'Strategy', 'Tower Defense', 'Pi...</td>\n",
       "    </tr>\n",
       "  </tbody>\n",
       "</table>\n",
       "</div>"
      ],
      "text/plain": [
       "                               title     mood  \\\n",
       "0  Prince of Persia: Warrior Within™      fun   \n",
       "1            BRINK: Agents of Change  general   \n",
       "2       Monaco: What's Yours Is Mine      fun   \n",
       "3                 Escape Dead Island   horror   \n",
       "4            Dungeon of the ENDLESS™      fun   \n",
       "\n",
       "                                   combined_features  \n",
       "0  ['Action', 'Adventure', 'Parkour', 'Third Pers...  \n",
       "1                                        ['Action']   \n",
       "2  ['Co-op', 'Stealth', 'Indie', 'Heist', 'Local ...  \n",
       "3  ['Zombies', 'Adventure', 'Survival', 'Action',...  \n",
       "4  ['Roguelike', 'Strategy', 'Tower Defense', 'Pi...  "
      ]
     },
     "execution_count": 114,
     "metadata": {},
     "output_type": "execute_result"
    }
   ],
   "source": [
    "# Fill NaN values\n",
    "merged_df['tags'] = merged_df['tags'].fillna('').astype(str)\n",
    "merged_df['description'] = merged_df['description'].fillna('').astype(str)\n",
    "\n",
    "# Combine into a single text column\n",
    "merged_df['combined_features'] = merged_df['tags'] + ' ' + merged_df['description']\n",
    "\n",
    "# Assign moods to each game based on tags/description\n",
    "def assign_mood(row):\n",
    "    if 'horror' in row['tags'].lower() or 'zombies' in row['description'].lower():\n",
    "        return 'horror'\n",
    "    elif 'adventure' in row['tags'].lower():\n",
    "        return 'fun'\n",
    "    elif 'puzzle' in row['tags'].lower() or 'logic' in row['description'].lower():\n",
    "        return 'brainy'\n",
    "    elif 'survival' in row['tags'].lower() or 'intense' in row['description'].lower():\n",
    "        return 'intense'\n",
    "    elif 'relax' in row['description'].lower():\n",
    "        return 'relaxing'\n",
    "    else:\n",
    "        return 'general'\n",
    "\n",
    "# Apply mood column\n",
    "merged_df['mood'] = merged_df.apply(assign_mood, axis=1)\n",
    "\n",
    "# Preview\n",
    "merged_df[['title', 'mood', 'combined_features']].head()\n"
   ]
  },
  {
   "cell_type": "markdown",
   "id": "22a6e860",
   "metadata": {},
   "source": [
    "Phase 3: TF-IDF + KNN Model Training"
   ]
  },
  {
   "cell_type": "markdown",
   "id": "258059e3",
   "metadata": {},
   "source": [
    "Step 1: Import Libraries"
   ]
  },
  {
   "cell_type": "code",
   "execution_count": 115,
   "id": "1f4bbb84",
   "metadata": {},
   "outputs": [],
   "source": [
    "from sklearn.feature_extraction.text import TfidfVectorizer\n",
    "from sklearn.neighbors import NearestNeighbors\n",
    "import pickle\n"
   ]
  },
  {
   "cell_type": "markdown",
   "id": "3930f120",
   "metadata": {},
   "source": [
    "Step 2: Vectorize Combined Features with TF-IDF"
   ]
  },
  {
   "cell_type": "code",
   "execution_count": 116,
   "id": "fd0d399d",
   "metadata": {},
   "outputs": [
    {
     "name": "stdout",
     "output_type": "stream",
     "text": [
      "TF-IDF matrix shape: (50872, 50289)\n"
     ]
    }
   ],
   "source": [
    "# Vectorize combined_features\n",
    "vectorizer = TfidfVectorizer(stop_words='english')\n",
    "tfidf_matrix = vectorizer.fit_transform(merged_df['combined_features'])\n",
    "\n",
    "print(\"TF-IDF matrix shape:\", tfidf_matrix.shape)\n"
   ]
  },
  {
   "cell_type": "markdown",
   "id": "28e32ad7",
   "metadata": {},
   "source": [
    " Step 3: Train KNN Model"
   ]
  },
  {
   "cell_type": "code",
   "execution_count": 117,
   "id": "b3b8c274",
   "metadata": {},
   "outputs": [
    {
     "data": {
      "text/html": [
       "<style>#sk-container-id-8 {\n",
       "  /* Definition of color scheme common for light and dark mode */\n",
       "  --sklearn-color-text: black;\n",
       "  --sklearn-color-line: gray;\n",
       "  /* Definition of color scheme for unfitted estimators */\n",
       "  --sklearn-color-unfitted-level-0: #fff5e6;\n",
       "  --sklearn-color-unfitted-level-1: #f6e4d2;\n",
       "  --sklearn-color-unfitted-level-2: #ffe0b3;\n",
       "  --sklearn-color-unfitted-level-3: chocolate;\n",
       "  /* Definition of color scheme for fitted estimators */\n",
       "  --sklearn-color-fitted-level-0: #f0f8ff;\n",
       "  --sklearn-color-fitted-level-1: #d4ebff;\n",
       "  --sklearn-color-fitted-level-2: #b3dbfd;\n",
       "  --sklearn-color-fitted-level-3: cornflowerblue;\n",
       "\n",
       "  /* Specific color for light theme */\n",
       "  --sklearn-color-text-on-default-background: var(--sg-text-color, var(--theme-code-foreground, var(--jp-content-font-color1, black)));\n",
       "  --sklearn-color-background: var(--sg-background-color, var(--theme-background, var(--jp-layout-color0, white)));\n",
       "  --sklearn-color-border-box: var(--sg-text-color, var(--theme-code-foreground, var(--jp-content-font-color1, black)));\n",
       "  --sklearn-color-icon: #696969;\n",
       "\n",
       "  @media (prefers-color-scheme: dark) {\n",
       "    /* Redefinition of color scheme for dark theme */\n",
       "    --sklearn-color-text-on-default-background: var(--sg-text-color, var(--theme-code-foreground, var(--jp-content-font-color1, white)));\n",
       "    --sklearn-color-background: var(--sg-background-color, var(--theme-background, var(--jp-layout-color0, #111)));\n",
       "    --sklearn-color-border-box: var(--sg-text-color, var(--theme-code-foreground, var(--jp-content-font-color1, white)));\n",
       "    --sklearn-color-icon: #878787;\n",
       "  }\n",
       "}\n",
       "\n",
       "#sk-container-id-8 {\n",
       "  color: var(--sklearn-color-text);\n",
       "}\n",
       "\n",
       "#sk-container-id-8 pre {\n",
       "  padding: 0;\n",
       "}\n",
       "\n",
       "#sk-container-id-8 input.sk-hidden--visually {\n",
       "  border: 0;\n",
       "  clip: rect(1px 1px 1px 1px);\n",
       "  clip: rect(1px, 1px, 1px, 1px);\n",
       "  height: 1px;\n",
       "  margin: -1px;\n",
       "  overflow: hidden;\n",
       "  padding: 0;\n",
       "  position: absolute;\n",
       "  width: 1px;\n",
       "}\n",
       "\n",
       "#sk-container-id-8 div.sk-dashed-wrapped {\n",
       "  border: 1px dashed var(--sklearn-color-line);\n",
       "  margin: 0 0.4em 0.5em 0.4em;\n",
       "  box-sizing: border-box;\n",
       "  padding-bottom: 0.4em;\n",
       "  background-color: var(--sklearn-color-background);\n",
       "}\n",
       "\n",
       "#sk-container-id-8 div.sk-container {\n",
       "  /* jupyter's `normalize.less` sets `[hidden] { display: none; }`\n",
       "     but bootstrap.min.css set `[hidden] { display: none !important; }`\n",
       "     so we also need the `!important` here to be able to override the\n",
       "     default hidden behavior on the sphinx rendered scikit-learn.org.\n",
       "     See: https://github.com/scikit-learn/scikit-learn/issues/21755 */\n",
       "  display: inline-block !important;\n",
       "  position: relative;\n",
       "}\n",
       "\n",
       "#sk-container-id-8 div.sk-text-repr-fallback {\n",
       "  display: none;\n",
       "}\n",
       "\n",
       "div.sk-parallel-item,\n",
       "div.sk-serial,\n",
       "div.sk-item {\n",
       "  /* draw centered vertical line to link estimators */\n",
       "  background-image: linear-gradient(var(--sklearn-color-text-on-default-background), var(--sklearn-color-text-on-default-background));\n",
       "  background-size: 2px 100%;\n",
       "  background-repeat: no-repeat;\n",
       "  background-position: center center;\n",
       "}\n",
       "\n",
       "/* Parallel-specific style estimator block */\n",
       "\n",
       "#sk-container-id-8 div.sk-parallel-item::after {\n",
       "  content: \"\";\n",
       "  width: 100%;\n",
       "  border-bottom: 2px solid var(--sklearn-color-text-on-default-background);\n",
       "  flex-grow: 1;\n",
       "}\n",
       "\n",
       "#sk-container-id-8 div.sk-parallel {\n",
       "  display: flex;\n",
       "  align-items: stretch;\n",
       "  justify-content: center;\n",
       "  background-color: var(--sklearn-color-background);\n",
       "  position: relative;\n",
       "}\n",
       "\n",
       "#sk-container-id-8 div.sk-parallel-item {\n",
       "  display: flex;\n",
       "  flex-direction: column;\n",
       "}\n",
       "\n",
       "#sk-container-id-8 div.sk-parallel-item:first-child::after {\n",
       "  align-self: flex-end;\n",
       "  width: 50%;\n",
       "}\n",
       "\n",
       "#sk-container-id-8 div.sk-parallel-item:last-child::after {\n",
       "  align-self: flex-start;\n",
       "  width: 50%;\n",
       "}\n",
       "\n",
       "#sk-container-id-8 div.sk-parallel-item:only-child::after {\n",
       "  width: 0;\n",
       "}\n",
       "\n",
       "/* Serial-specific style estimator block */\n",
       "\n",
       "#sk-container-id-8 div.sk-serial {\n",
       "  display: flex;\n",
       "  flex-direction: column;\n",
       "  align-items: center;\n",
       "  background-color: var(--sklearn-color-background);\n",
       "  padding-right: 1em;\n",
       "  padding-left: 1em;\n",
       "}\n",
       "\n",
       "\n",
       "/* Toggleable style: style used for estimator/Pipeline/ColumnTransformer box that is\n",
       "clickable and can be expanded/collapsed.\n",
       "- Pipeline and ColumnTransformer use this feature and define the default style\n",
       "- Estimators will overwrite some part of the style using the `sk-estimator` class\n",
       "*/\n",
       "\n",
       "/* Pipeline and ColumnTransformer style (default) */\n",
       "\n",
       "#sk-container-id-8 div.sk-toggleable {\n",
       "  /* Default theme specific background. It is overwritten whether we have a\n",
       "  specific estimator or a Pipeline/ColumnTransformer */\n",
       "  background-color: var(--sklearn-color-background);\n",
       "}\n",
       "\n",
       "/* Toggleable label */\n",
       "#sk-container-id-8 label.sk-toggleable__label {\n",
       "  cursor: pointer;\n",
       "  display: block;\n",
       "  width: 100%;\n",
       "  margin-bottom: 0;\n",
       "  padding: 0.5em;\n",
       "  box-sizing: border-box;\n",
       "  text-align: center;\n",
       "}\n",
       "\n",
       "#sk-container-id-8 label.sk-toggleable__label-arrow:before {\n",
       "  /* Arrow on the left of the label */\n",
       "  content: \"▸\";\n",
       "  float: left;\n",
       "  margin-right: 0.25em;\n",
       "  color: var(--sklearn-color-icon);\n",
       "}\n",
       "\n",
       "#sk-container-id-8 label.sk-toggleable__label-arrow:hover:before {\n",
       "  color: var(--sklearn-color-text);\n",
       "}\n",
       "\n",
       "/* Toggleable content - dropdown */\n",
       "\n",
       "#sk-container-id-8 div.sk-toggleable__content {\n",
       "  max-height: 0;\n",
       "  max-width: 0;\n",
       "  overflow: hidden;\n",
       "  text-align: left;\n",
       "  /* unfitted */\n",
       "  background-color: var(--sklearn-color-unfitted-level-0);\n",
       "}\n",
       "\n",
       "#sk-container-id-8 div.sk-toggleable__content.fitted {\n",
       "  /* fitted */\n",
       "  background-color: var(--sklearn-color-fitted-level-0);\n",
       "}\n",
       "\n",
       "#sk-container-id-8 div.sk-toggleable__content pre {\n",
       "  margin: 0.2em;\n",
       "  border-radius: 0.25em;\n",
       "  color: var(--sklearn-color-text);\n",
       "  /* unfitted */\n",
       "  background-color: var(--sklearn-color-unfitted-level-0);\n",
       "}\n",
       "\n",
       "#sk-container-id-8 div.sk-toggleable__content.fitted pre {\n",
       "  /* unfitted */\n",
       "  background-color: var(--sklearn-color-fitted-level-0);\n",
       "}\n",
       "\n",
       "#sk-container-id-8 input.sk-toggleable__control:checked~div.sk-toggleable__content {\n",
       "  /* Expand drop-down */\n",
       "  max-height: 200px;\n",
       "  max-width: 100%;\n",
       "  overflow: auto;\n",
       "}\n",
       "\n",
       "#sk-container-id-8 input.sk-toggleable__control:checked~label.sk-toggleable__label-arrow:before {\n",
       "  content: \"▾\";\n",
       "}\n",
       "\n",
       "/* Pipeline/ColumnTransformer-specific style */\n",
       "\n",
       "#sk-container-id-8 div.sk-label input.sk-toggleable__control:checked~label.sk-toggleable__label {\n",
       "  color: var(--sklearn-color-text);\n",
       "  background-color: var(--sklearn-color-unfitted-level-2);\n",
       "}\n",
       "\n",
       "#sk-container-id-8 div.sk-label.fitted input.sk-toggleable__control:checked~label.sk-toggleable__label {\n",
       "  background-color: var(--sklearn-color-fitted-level-2);\n",
       "}\n",
       "\n",
       "/* Estimator-specific style */\n",
       "\n",
       "/* Colorize estimator box */\n",
       "#sk-container-id-8 div.sk-estimator input.sk-toggleable__control:checked~label.sk-toggleable__label {\n",
       "  /* unfitted */\n",
       "  background-color: var(--sklearn-color-unfitted-level-2);\n",
       "}\n",
       "\n",
       "#sk-container-id-8 div.sk-estimator.fitted input.sk-toggleable__control:checked~label.sk-toggleable__label {\n",
       "  /* fitted */\n",
       "  background-color: var(--sklearn-color-fitted-level-2);\n",
       "}\n",
       "\n",
       "#sk-container-id-8 div.sk-label label.sk-toggleable__label,\n",
       "#sk-container-id-8 div.sk-label label {\n",
       "  /* The background is the default theme color */\n",
       "  color: var(--sklearn-color-text-on-default-background);\n",
       "}\n",
       "\n",
       "/* On hover, darken the color of the background */\n",
       "#sk-container-id-8 div.sk-label:hover label.sk-toggleable__label {\n",
       "  color: var(--sklearn-color-text);\n",
       "  background-color: var(--sklearn-color-unfitted-level-2);\n",
       "}\n",
       "\n",
       "/* Label box, darken color on hover, fitted */\n",
       "#sk-container-id-8 div.sk-label.fitted:hover label.sk-toggleable__label.fitted {\n",
       "  color: var(--sklearn-color-text);\n",
       "  background-color: var(--sklearn-color-fitted-level-2);\n",
       "}\n",
       "\n",
       "/* Estimator label */\n",
       "\n",
       "#sk-container-id-8 div.sk-label label {\n",
       "  font-family: monospace;\n",
       "  font-weight: bold;\n",
       "  display: inline-block;\n",
       "  line-height: 1.2em;\n",
       "}\n",
       "\n",
       "#sk-container-id-8 div.sk-label-container {\n",
       "  text-align: center;\n",
       "}\n",
       "\n",
       "/* Estimator-specific */\n",
       "#sk-container-id-8 div.sk-estimator {\n",
       "  font-family: monospace;\n",
       "  border: 1px dotted var(--sklearn-color-border-box);\n",
       "  border-radius: 0.25em;\n",
       "  box-sizing: border-box;\n",
       "  margin-bottom: 0.5em;\n",
       "  /* unfitted */\n",
       "  background-color: var(--sklearn-color-unfitted-level-0);\n",
       "}\n",
       "\n",
       "#sk-container-id-8 div.sk-estimator.fitted {\n",
       "  /* fitted */\n",
       "  background-color: var(--sklearn-color-fitted-level-0);\n",
       "}\n",
       "\n",
       "/* on hover */\n",
       "#sk-container-id-8 div.sk-estimator:hover {\n",
       "  /* unfitted */\n",
       "  background-color: var(--sklearn-color-unfitted-level-2);\n",
       "}\n",
       "\n",
       "#sk-container-id-8 div.sk-estimator.fitted:hover {\n",
       "  /* fitted */\n",
       "  background-color: var(--sklearn-color-fitted-level-2);\n",
       "}\n",
       "\n",
       "/* Specification for estimator info (e.g. \"i\" and \"?\") */\n",
       "\n",
       "/* Common style for \"i\" and \"?\" */\n",
       "\n",
       ".sk-estimator-doc-link,\n",
       "a:link.sk-estimator-doc-link,\n",
       "a:visited.sk-estimator-doc-link {\n",
       "  float: right;\n",
       "  font-size: smaller;\n",
       "  line-height: 1em;\n",
       "  font-family: monospace;\n",
       "  background-color: var(--sklearn-color-background);\n",
       "  border-radius: 1em;\n",
       "  height: 1em;\n",
       "  width: 1em;\n",
       "  text-decoration: none !important;\n",
       "  margin-left: 1ex;\n",
       "  /* unfitted */\n",
       "  border: var(--sklearn-color-unfitted-level-1) 1pt solid;\n",
       "  color: var(--sklearn-color-unfitted-level-1);\n",
       "}\n",
       "\n",
       ".sk-estimator-doc-link.fitted,\n",
       "a:link.sk-estimator-doc-link.fitted,\n",
       "a:visited.sk-estimator-doc-link.fitted {\n",
       "  /* fitted */\n",
       "  border: var(--sklearn-color-fitted-level-1) 1pt solid;\n",
       "  color: var(--sklearn-color-fitted-level-1);\n",
       "}\n",
       "\n",
       "/* On hover */\n",
       "div.sk-estimator:hover .sk-estimator-doc-link:hover,\n",
       ".sk-estimator-doc-link:hover,\n",
       "div.sk-label-container:hover .sk-estimator-doc-link:hover,\n",
       ".sk-estimator-doc-link:hover {\n",
       "  /* unfitted */\n",
       "  background-color: var(--sklearn-color-unfitted-level-3);\n",
       "  color: var(--sklearn-color-background);\n",
       "  text-decoration: none;\n",
       "}\n",
       "\n",
       "div.sk-estimator.fitted:hover .sk-estimator-doc-link.fitted:hover,\n",
       ".sk-estimator-doc-link.fitted:hover,\n",
       "div.sk-label-container:hover .sk-estimator-doc-link.fitted:hover,\n",
       ".sk-estimator-doc-link.fitted:hover {\n",
       "  /* fitted */\n",
       "  background-color: var(--sklearn-color-fitted-level-3);\n",
       "  color: var(--sklearn-color-background);\n",
       "  text-decoration: none;\n",
       "}\n",
       "\n",
       "/* Span, style for the box shown on hovering the info icon */\n",
       ".sk-estimator-doc-link span {\n",
       "  display: none;\n",
       "  z-index: 9999;\n",
       "  position: relative;\n",
       "  font-weight: normal;\n",
       "  right: .2ex;\n",
       "  padding: .5ex;\n",
       "  margin: .5ex;\n",
       "  width: min-content;\n",
       "  min-width: 20ex;\n",
       "  max-width: 50ex;\n",
       "  color: var(--sklearn-color-text);\n",
       "  box-shadow: 2pt 2pt 4pt #999;\n",
       "  /* unfitted */\n",
       "  background: var(--sklearn-color-unfitted-level-0);\n",
       "  border: .5pt solid var(--sklearn-color-unfitted-level-3);\n",
       "}\n",
       "\n",
       ".sk-estimator-doc-link.fitted span {\n",
       "  /* fitted */\n",
       "  background: var(--sklearn-color-fitted-level-0);\n",
       "  border: var(--sklearn-color-fitted-level-3);\n",
       "}\n",
       "\n",
       ".sk-estimator-doc-link:hover span {\n",
       "  display: block;\n",
       "}\n",
       "\n",
       "/* \"?\"-specific style due to the `<a>` HTML tag */\n",
       "\n",
       "#sk-container-id-8 a.estimator_doc_link {\n",
       "  float: right;\n",
       "  font-size: 1rem;\n",
       "  line-height: 1em;\n",
       "  font-family: monospace;\n",
       "  background-color: var(--sklearn-color-background);\n",
       "  border-radius: 1rem;\n",
       "  height: 1rem;\n",
       "  width: 1rem;\n",
       "  text-decoration: none;\n",
       "  /* unfitted */\n",
       "  color: var(--sklearn-color-unfitted-level-1);\n",
       "  border: var(--sklearn-color-unfitted-level-1) 1pt solid;\n",
       "}\n",
       "\n",
       "#sk-container-id-8 a.estimator_doc_link.fitted {\n",
       "  /* fitted */\n",
       "  border: var(--sklearn-color-fitted-level-1) 1pt solid;\n",
       "  color: var(--sklearn-color-fitted-level-1);\n",
       "}\n",
       "\n",
       "/* On hover */\n",
       "#sk-container-id-8 a.estimator_doc_link:hover {\n",
       "  /* unfitted */\n",
       "  background-color: var(--sklearn-color-unfitted-level-3);\n",
       "  color: var(--sklearn-color-background);\n",
       "  text-decoration: none;\n",
       "}\n",
       "\n",
       "#sk-container-id-8 a.estimator_doc_link.fitted:hover {\n",
       "  /* fitted */\n",
       "  background-color: var(--sklearn-color-fitted-level-3);\n",
       "}\n",
       "</style><div id=\"sk-container-id-8\" class=\"sk-top-container\"><div class=\"sk-text-repr-fallback\"><pre>NearestNeighbors(metric=&#x27;cosine&#x27;, n_neighbors=6)</pre><b>In a Jupyter environment, please rerun this cell to show the HTML representation or trust the notebook. <br />On GitHub, the HTML representation is unable to render, please try loading this page with nbviewer.org.</b></div><div class=\"sk-container\" hidden><div class=\"sk-item\"><div class=\"sk-estimator fitted sk-toggleable\"><input class=\"sk-toggleable__control sk-hidden--visually\" id=\"sk-estimator-id-8\" type=\"checkbox\" checked><label for=\"sk-estimator-id-8\" class=\"sk-toggleable__label fitted sk-toggleable__label-arrow fitted\">&nbsp;&nbsp;NearestNeighbors<a class=\"sk-estimator-doc-link fitted\" rel=\"noreferrer\" target=\"_blank\" href=\"https://scikit-learn.org/1.5/modules/generated/sklearn.neighbors.NearestNeighbors.html\">?<span>Documentation for NearestNeighbors</span></a><span class=\"sk-estimator-doc-link fitted\">i<span>Fitted</span></span></label><div class=\"sk-toggleable__content fitted\"><pre>NearestNeighbors(metric=&#x27;cosine&#x27;, n_neighbors=6)</pre></div> </div></div></div></div>"
      ],
      "text/plain": [
       "NearestNeighbors(metric='cosine', n_neighbors=6)"
      ]
     },
     "execution_count": 117,
     "metadata": {},
     "output_type": "execute_result"
    }
   ],
   "source": [
    "# Train NearestNeighbors model\n",
    "knn = NearestNeighbors(n_neighbors=6, metric='cosine')\n",
    "knn.fit(tfidf_matrix)\n"
   ]
  },
  {
   "cell_type": "markdown",
   "id": "963dbe9e",
   "metadata": {},
   "source": [
    "Step 4: Save Your Model and Matrix as .pkl"
   ]
  },
  {
   "cell_type": "code",
   "execution_count": 118,
   "id": "c9d24ff8",
   "metadata": {},
   "outputs": [],
   "source": [
    "import os\n",
    "\n",
    "# Make sure 'models/' folder exists\n",
    "os.makedirs('../models', exist_ok=True)\n"
   ]
  },
  {
   "cell_type": "code",
   "execution_count": 119,
   "id": "57b0f05b",
   "metadata": {},
   "outputs": [],
   "source": [
    "# Save model and matrix\n",
    "with open('../models/knn_model.pkl', 'wb') as f:\n",
    "    pickle.dump(knn, f)\n",
    "\n",
    "with open('../models/tfidf_matrix.pkl', 'wb') as f:\n",
    "    pickle.dump(tfidf_matrix, f)\n"
   ]
  },
  {
   "cell_type": "code",
   "execution_count": 120,
   "id": "db81bc83",
   "metadata": {},
   "outputs": [],
   "source": [
    "# Export cleaned and combined dataset for the UI\n",
    "merged_df.to_csv(\"../data/cleaned_games.csv\", index=False)\n"
   ]
  },
  {
   "cell_type": "markdown",
   "id": "4f49f714",
   "metadata": {},
   "source": [
    "Adding Mood Filtering\n"
   ]
  },
  {
   "cell_type": "code",
   "execution_count": 121,
   "id": "f8b592e4",
   "metadata": {},
   "outputs": [
    {
     "data": {
      "application/vnd.microsoft.datawrangler.viewer.v0+json": {
       "columns": [
        {
         "name": "index",
         "rawType": "int64",
         "type": "integer"
        },
        {
         "name": "title",
         "rawType": "object",
         "type": "string"
        },
        {
         "name": "tags",
         "rawType": "object",
         "type": "string"
        },
        {
         "name": "mood",
         "rawType": "object",
         "type": "string"
        }
       ],
       "conversionMethod": "pd.DataFrame",
       "ref": "e42fa370-6380-484e-ad36-f0e56f2a9fb6",
       "rows": [
        [
         "0",
         "Prince of Persia: Warrior Within™",
         "['Action', 'Adventure', 'Parkour', 'Third Person', 'Great Soundtrack', 'Singleplayer', 'Platformer', 'Time Travel', 'Atmospheric', 'Classic', 'Hack and Slash', 'Time Manipulation', 'Gore', 'Fantasy', 'Story Rich', 'Dark', 'Open World', 'Controller', 'Dark Fantasy', 'Puzzle']",
         "fun"
        ],
        [
         "1",
         "BRINK: Agents of Change",
         "['Action']",
         "general"
        ],
        [
         "2",
         "Monaco: What's Yours Is Mine",
         "['Co-op', 'Stealth', 'Indie', 'Heist', 'Local Co-Op', 'Strategy', 'Online Co-Op', 'Top-Down', 'Action', 'Multiplayer', 'Crime', 'Casual', 'Great Soundtrack', 'Adventure', 'Pixel Graphics', 'Local Multiplayer', 'Controller', '2D', 'Singleplayer', 'Loot']",
         "fun"
        ],
        [
         "3",
         "Escape Dead Island",
         "['Zombies', 'Adventure', 'Survival', 'Action', 'Third Person', 'Open World', 'Gore', 'Horror', 'Singleplayer', 'Multiplayer', 'Cartoony', 'Hack and Slash', 'Stealth', 'Co-op', 'Atmospheric', 'Survival Horror', 'Third-Person Shooter', 'Anime']",
         "horror"
        ],
        [
         "4",
         "Dungeon of the ENDLESS™",
         "['Roguelike', 'Strategy', 'Tower Defense', 'Pixel Graphics', 'Indie', 'RPG', 'Sci-fi', 'Dungeon Crawler', 'Adventure', 'Perma Death', 'Procedural Generation', 'Resource Management', 'Difficult', 'Co-op', 'Roguelite', 'Survival', 'Replay Value', 'Great Soundtrack', 'Singleplayer', '2D']",
         "fun"
        ]
       ],
       "shape": {
        "columns": 3,
        "rows": 5
       }
      },
      "text/html": [
       "<div>\n",
       "<style scoped>\n",
       "    .dataframe tbody tr th:only-of-type {\n",
       "        vertical-align: middle;\n",
       "    }\n",
       "\n",
       "    .dataframe tbody tr th {\n",
       "        vertical-align: top;\n",
       "    }\n",
       "\n",
       "    .dataframe thead th {\n",
       "        text-align: right;\n",
       "    }\n",
       "</style>\n",
       "<table border=\"1\" class=\"dataframe\">\n",
       "  <thead>\n",
       "    <tr style=\"text-align: right;\">\n",
       "      <th></th>\n",
       "      <th>title</th>\n",
       "      <th>tags</th>\n",
       "      <th>mood</th>\n",
       "    </tr>\n",
       "  </thead>\n",
       "  <tbody>\n",
       "    <tr>\n",
       "      <th>0</th>\n",
       "      <td>Prince of Persia: Warrior Within™</td>\n",
       "      <td>['Action', 'Adventure', 'Parkour', 'Third Pers...</td>\n",
       "      <td>fun</td>\n",
       "    </tr>\n",
       "    <tr>\n",
       "      <th>1</th>\n",
       "      <td>BRINK: Agents of Change</td>\n",
       "      <td>['Action']</td>\n",
       "      <td>general</td>\n",
       "    </tr>\n",
       "    <tr>\n",
       "      <th>2</th>\n",
       "      <td>Monaco: What's Yours Is Mine</td>\n",
       "      <td>['Co-op', 'Stealth', 'Indie', 'Heist', 'Local ...</td>\n",
       "      <td>fun</td>\n",
       "    </tr>\n",
       "    <tr>\n",
       "      <th>3</th>\n",
       "      <td>Escape Dead Island</td>\n",
       "      <td>['Zombies', 'Adventure', 'Survival', 'Action',...</td>\n",
       "      <td>horror</td>\n",
       "    </tr>\n",
       "    <tr>\n",
       "      <th>4</th>\n",
       "      <td>Dungeon of the ENDLESS™</td>\n",
       "      <td>['Roguelike', 'Strategy', 'Tower Defense', 'Pi...</td>\n",
       "      <td>fun</td>\n",
       "    </tr>\n",
       "  </tbody>\n",
       "</table>\n",
       "</div>"
      ],
      "text/plain": [
       "                               title  \\\n",
       "0  Prince of Persia: Warrior Within™   \n",
       "1            BRINK: Agents of Change   \n",
       "2       Monaco: What's Yours Is Mine   \n",
       "3                 Escape Dead Island   \n",
       "4            Dungeon of the ENDLESS™   \n",
       "\n",
       "                                                tags     mood  \n",
       "0  ['Action', 'Adventure', 'Parkour', 'Third Pers...      fun  \n",
       "1                                         ['Action']  general  \n",
       "2  ['Co-op', 'Stealth', 'Indie', 'Heist', 'Local ...      fun  \n",
       "3  ['Zombies', 'Adventure', 'Survival', 'Action',...   horror  \n",
       "4  ['Roguelike', 'Strategy', 'Tower Defense', 'Pi...      fun  "
      ]
     },
     "execution_count": 121,
     "metadata": {},
     "output_type": "execute_result"
    }
   ],
   "source": [
    "# Add a simple mood label manually (just a demo — real model can expand later)\n",
    "def assign_mood(row):\n",
    "    if 'horror' in row['tags'].lower() or 'zombies' in row['description'].lower():\n",
    "        return 'horror'\n",
    "    elif 'adventure' in row['tags'].lower():\n",
    "        return 'fun'\n",
    "    elif 'puzzle' in row['tags'].lower() or 'logic' in row['description'].lower():\n",
    "        return 'brainy'\n",
    "    elif 'survival' in row['tags'].lower() or 'intense' in row['description'].lower():\n",
    "        return 'intense'\n",
    "    elif 'relax' in row['description'].lower():\n",
    "        return 'relaxing'\n",
    "    else:\n",
    "        return 'general'\n",
    "\n",
    "# Apply mood labeling\n",
    "merged_df['mood'] = merged_df.apply(assign_mood, axis=1)\n",
    "\n",
    "# Preview\n",
    "merged_df[['title', 'tags', 'mood']].head()\n"
   ]
  },
  {
   "cell_type": "code",
   "execution_count": 122,
   "id": "2373ffd0",
   "metadata": {},
   "outputs": [],
   "source": [
    "merged_df.rename(columns={\n",
    "    'price_final_x': 'price',\n",
    "    'date_release_x': 'release_date',\n",
    "    'win_x': 'win',\n",
    "    'mac_x': 'mac',\n",
    "    'linux_x': 'linux',\n",
    "    'user_reviews_x': 'user_reviews'\n",
    "}, inplace=True)\n"
   ]
  },
  {
   "cell_type": "code",
   "execution_count": 123,
   "id": "f0f91a50",
   "metadata": {},
   "outputs": [],
   "source": [
    "merged_df.rename(columns={\n",
    "    'price_final': 'price',\n",
    "    'date_release': 'release_date',\n",
    "    'win': 'win',\n",
    "    'mac': 'mac',\n",
    "    'linux': 'linux',\n",
    "    'user_reviews': 'user_reviews',\n",
    "    'playtime_forever': 'hours'  # use this if your hours column is named something else\n",
    "}, inplace=True)\n"
   ]
  },
  {
   "cell_type": "code",
   "execution_count": 124,
   "id": "bed21d11",
   "metadata": {},
   "outputs": [
    {
     "name": "stdout",
     "output_type": "stream",
     "text": [
      "['app_id', 'title', 'release_date', 'win', 'mac', 'linux', 'rating', 'positive_ratio', 'user_reviews', 'price', 'price_original', 'discount', 'steam_deck', 'description', 'tags', 'date_release_y', 'win_y', 'mac_y', 'linux_y', 'price_final_y', 'user_reviews_y', 'combined_features', 'mood']\n"
     ]
    }
   ],
   "source": [
    "print(merged_df.columns.tolist())\n"
   ]
  },
  {
   "cell_type": "markdown",
   "id": "08ed54fb",
   "metadata": {},
   "source": [
    "Save updated CSV again"
   ]
  },
  {
   "cell_type": "code",
   "execution_count": 125,
   "id": "24f456c2",
   "metadata": {},
   "outputs": [],
   "source": [
    "merged_df.to_csv(\"../data/cleaned_games.csv\", index=False)\n"
   ]
  },
  {
   "cell_type": "code",
   "execution_count": 127,
   "id": "5858fc46",
   "metadata": {},
   "outputs": [],
   "source": [
    "merged_df.rename(columns={\n",
    "    'price_final_x': 'price',\n",
    "    'date_release_x': 'release_date',\n",
    "    'win_x': 'win',\n",
    "    'mac_x': 'mac',\n",
    "    'linux_x': 'linux',\n",
    "    'user_reviews_x': 'user_reviews'\n",
    "}, inplace=True)\n"
   ]
  }
 ],
 "metadata": {
  "kernelspec": {
   "display_name": "base",
   "language": "python",
   "name": "python3"
  },
  "language_info": {
   "codemirror_mode": {
    "name": "ipython",
    "version": 3
   },
   "file_extension": ".py",
   "mimetype": "text/x-python",
   "name": "python",
   "nbconvert_exporter": "python",
   "pygments_lexer": "ipython3",
   "version": "3.12.7"
  }
 },
 "nbformat": 4,
 "nbformat_minor": 5
}
