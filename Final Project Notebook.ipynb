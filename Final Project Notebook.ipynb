{
 "cells": [
  {
   "cell_type": "code",
   "execution_count": 1,
   "id": "68c7f5fb",
   "metadata": {},
   "outputs": [
    {
     "ename": "FileNotFoundError",
     "evalue": "[Errno 2] No such file or directory: 'games.csv'",
     "output_type": "error",
     "traceback": [
      "\u001b[0;31m---------------------------------------------------------------------------\u001b[0m",
      "\u001b[0;31mFileNotFoundError\u001b[0m                         Traceback (most recent call last)",
      "Cell \u001b[0;32mIn[1], line 4\u001b[0m\n\u001b[1;32m      1\u001b[0m \u001b[38;5;28;01mimport\u001b[39;00m \u001b[38;5;21;01mpandas\u001b[39;00m \u001b[38;5;28;01mas\u001b[39;00m \u001b[38;5;21;01mpd\u001b[39;00m\n\u001b[1;32m      3\u001b[0m \u001b[38;5;66;03m# Load our original games.csv\u001b[39;00m\n\u001b[0;32m----> 4\u001b[0m df \u001b[38;5;241m=\u001b[39m pd\u001b[38;5;241m.\u001b[39mread_csv(\u001b[38;5;124m'\u001b[39m\u001b[38;5;124mgames.csv\u001b[39m\u001b[38;5;124m'\u001b[39m)\n\u001b[1;32m      6\u001b[0m \u001b[38;5;66;03m# Load our metadata with lines=True\u001b[39;00m\n\u001b[1;32m      7\u001b[0m metadata \u001b[38;5;241m=\u001b[39m pd\u001b[38;5;241m.\u001b[39mread_json(\u001b[38;5;124m'\u001b[39m\u001b[38;5;124mgames_metadata.json\u001b[39m\u001b[38;5;124m'\u001b[39m, lines\u001b[38;5;241m=\u001b[39m\u001b[38;5;28;01mTrue\u001b[39;00m)\n",
      "File \u001b[0;32m/opt/anaconda3/lib/python3.12/site-packages/pandas/io/parsers/readers.py:1026\u001b[0m, in \u001b[0;36mread_csv\u001b[0;34m(filepath_or_buffer, sep, delimiter, header, names, index_col, usecols, dtype, engine, converters, true_values, false_values, skipinitialspace, skiprows, skipfooter, nrows, na_values, keep_default_na, na_filter, verbose, skip_blank_lines, parse_dates, infer_datetime_format, keep_date_col, date_parser, date_format, dayfirst, cache_dates, iterator, chunksize, compression, thousands, decimal, lineterminator, quotechar, quoting, doublequote, escapechar, comment, encoding, encoding_errors, dialect, on_bad_lines, delim_whitespace, low_memory, memory_map, float_precision, storage_options, dtype_backend)\u001b[0m\n\u001b[1;32m   1013\u001b[0m kwds_defaults \u001b[38;5;241m=\u001b[39m _refine_defaults_read(\n\u001b[1;32m   1014\u001b[0m     dialect,\n\u001b[1;32m   1015\u001b[0m     delimiter,\n\u001b[0;32m   (...)\u001b[0m\n\u001b[1;32m   1022\u001b[0m     dtype_backend\u001b[38;5;241m=\u001b[39mdtype_backend,\n\u001b[1;32m   1023\u001b[0m )\n\u001b[1;32m   1024\u001b[0m kwds\u001b[38;5;241m.\u001b[39mupdate(kwds_defaults)\n\u001b[0;32m-> 1026\u001b[0m \u001b[38;5;28;01mreturn\u001b[39;00m _read(filepath_or_buffer, kwds)\n",
      "File \u001b[0;32m/opt/anaconda3/lib/python3.12/site-packages/pandas/io/parsers/readers.py:620\u001b[0m, in \u001b[0;36m_read\u001b[0;34m(filepath_or_buffer, kwds)\u001b[0m\n\u001b[1;32m    617\u001b[0m _validate_names(kwds\u001b[38;5;241m.\u001b[39mget(\u001b[38;5;124m\"\u001b[39m\u001b[38;5;124mnames\u001b[39m\u001b[38;5;124m\"\u001b[39m, \u001b[38;5;28;01mNone\u001b[39;00m))\n\u001b[1;32m    619\u001b[0m \u001b[38;5;66;03m# Create the parser.\u001b[39;00m\n\u001b[0;32m--> 620\u001b[0m parser \u001b[38;5;241m=\u001b[39m TextFileReader(filepath_or_buffer, \u001b[38;5;241m*\u001b[39m\u001b[38;5;241m*\u001b[39mkwds)\n\u001b[1;32m    622\u001b[0m \u001b[38;5;28;01mif\u001b[39;00m chunksize \u001b[38;5;129;01mor\u001b[39;00m iterator:\n\u001b[1;32m    623\u001b[0m     \u001b[38;5;28;01mreturn\u001b[39;00m parser\n",
      "File \u001b[0;32m/opt/anaconda3/lib/python3.12/site-packages/pandas/io/parsers/readers.py:1620\u001b[0m, in \u001b[0;36mTextFileReader.__init__\u001b[0;34m(self, f, engine, **kwds)\u001b[0m\n\u001b[1;32m   1617\u001b[0m     \u001b[38;5;28mself\u001b[39m\u001b[38;5;241m.\u001b[39moptions[\u001b[38;5;124m\"\u001b[39m\u001b[38;5;124mhas_index_names\u001b[39m\u001b[38;5;124m\"\u001b[39m] \u001b[38;5;241m=\u001b[39m kwds[\u001b[38;5;124m\"\u001b[39m\u001b[38;5;124mhas_index_names\u001b[39m\u001b[38;5;124m\"\u001b[39m]\n\u001b[1;32m   1619\u001b[0m \u001b[38;5;28mself\u001b[39m\u001b[38;5;241m.\u001b[39mhandles: IOHandles \u001b[38;5;241m|\u001b[39m \u001b[38;5;28;01mNone\u001b[39;00m \u001b[38;5;241m=\u001b[39m \u001b[38;5;28;01mNone\u001b[39;00m\n\u001b[0;32m-> 1620\u001b[0m \u001b[38;5;28mself\u001b[39m\u001b[38;5;241m.\u001b[39m_engine \u001b[38;5;241m=\u001b[39m \u001b[38;5;28mself\u001b[39m\u001b[38;5;241m.\u001b[39m_make_engine(f, \u001b[38;5;28mself\u001b[39m\u001b[38;5;241m.\u001b[39mengine)\n",
      "File \u001b[0;32m/opt/anaconda3/lib/python3.12/site-packages/pandas/io/parsers/readers.py:1880\u001b[0m, in \u001b[0;36mTextFileReader._make_engine\u001b[0;34m(self, f, engine)\u001b[0m\n\u001b[1;32m   1878\u001b[0m     \u001b[38;5;28;01mif\u001b[39;00m \u001b[38;5;124m\"\u001b[39m\u001b[38;5;124mb\u001b[39m\u001b[38;5;124m\"\u001b[39m \u001b[38;5;129;01mnot\u001b[39;00m \u001b[38;5;129;01min\u001b[39;00m mode:\n\u001b[1;32m   1879\u001b[0m         mode \u001b[38;5;241m+\u001b[39m\u001b[38;5;241m=\u001b[39m \u001b[38;5;124m\"\u001b[39m\u001b[38;5;124mb\u001b[39m\u001b[38;5;124m\"\u001b[39m\n\u001b[0;32m-> 1880\u001b[0m \u001b[38;5;28mself\u001b[39m\u001b[38;5;241m.\u001b[39mhandles \u001b[38;5;241m=\u001b[39m get_handle(\n\u001b[1;32m   1881\u001b[0m     f,\n\u001b[1;32m   1882\u001b[0m     mode,\n\u001b[1;32m   1883\u001b[0m     encoding\u001b[38;5;241m=\u001b[39m\u001b[38;5;28mself\u001b[39m\u001b[38;5;241m.\u001b[39moptions\u001b[38;5;241m.\u001b[39mget(\u001b[38;5;124m\"\u001b[39m\u001b[38;5;124mencoding\u001b[39m\u001b[38;5;124m\"\u001b[39m, \u001b[38;5;28;01mNone\u001b[39;00m),\n\u001b[1;32m   1884\u001b[0m     compression\u001b[38;5;241m=\u001b[39m\u001b[38;5;28mself\u001b[39m\u001b[38;5;241m.\u001b[39moptions\u001b[38;5;241m.\u001b[39mget(\u001b[38;5;124m\"\u001b[39m\u001b[38;5;124mcompression\u001b[39m\u001b[38;5;124m\"\u001b[39m, \u001b[38;5;28;01mNone\u001b[39;00m),\n\u001b[1;32m   1885\u001b[0m     memory_map\u001b[38;5;241m=\u001b[39m\u001b[38;5;28mself\u001b[39m\u001b[38;5;241m.\u001b[39moptions\u001b[38;5;241m.\u001b[39mget(\u001b[38;5;124m\"\u001b[39m\u001b[38;5;124mmemory_map\u001b[39m\u001b[38;5;124m\"\u001b[39m, \u001b[38;5;28;01mFalse\u001b[39;00m),\n\u001b[1;32m   1886\u001b[0m     is_text\u001b[38;5;241m=\u001b[39mis_text,\n\u001b[1;32m   1887\u001b[0m     errors\u001b[38;5;241m=\u001b[39m\u001b[38;5;28mself\u001b[39m\u001b[38;5;241m.\u001b[39moptions\u001b[38;5;241m.\u001b[39mget(\u001b[38;5;124m\"\u001b[39m\u001b[38;5;124mencoding_errors\u001b[39m\u001b[38;5;124m\"\u001b[39m, \u001b[38;5;124m\"\u001b[39m\u001b[38;5;124mstrict\u001b[39m\u001b[38;5;124m\"\u001b[39m),\n\u001b[1;32m   1888\u001b[0m     storage_options\u001b[38;5;241m=\u001b[39m\u001b[38;5;28mself\u001b[39m\u001b[38;5;241m.\u001b[39moptions\u001b[38;5;241m.\u001b[39mget(\u001b[38;5;124m\"\u001b[39m\u001b[38;5;124mstorage_options\u001b[39m\u001b[38;5;124m\"\u001b[39m, \u001b[38;5;28;01mNone\u001b[39;00m),\n\u001b[1;32m   1889\u001b[0m )\n\u001b[1;32m   1890\u001b[0m \u001b[38;5;28;01massert\u001b[39;00m \u001b[38;5;28mself\u001b[39m\u001b[38;5;241m.\u001b[39mhandles \u001b[38;5;129;01mis\u001b[39;00m \u001b[38;5;129;01mnot\u001b[39;00m \u001b[38;5;28;01mNone\u001b[39;00m\n\u001b[1;32m   1891\u001b[0m f \u001b[38;5;241m=\u001b[39m \u001b[38;5;28mself\u001b[39m\u001b[38;5;241m.\u001b[39mhandles\u001b[38;5;241m.\u001b[39mhandle\n",
      "File \u001b[0;32m/opt/anaconda3/lib/python3.12/site-packages/pandas/io/common.py:873\u001b[0m, in \u001b[0;36mget_handle\u001b[0;34m(path_or_buf, mode, encoding, compression, memory_map, is_text, errors, storage_options)\u001b[0m\n\u001b[1;32m    868\u001b[0m \u001b[38;5;28;01melif\u001b[39;00m \u001b[38;5;28misinstance\u001b[39m(handle, \u001b[38;5;28mstr\u001b[39m):\n\u001b[1;32m    869\u001b[0m     \u001b[38;5;66;03m# Check whether the filename is to be opened in binary mode.\u001b[39;00m\n\u001b[1;32m    870\u001b[0m     \u001b[38;5;66;03m# Binary mode does not support 'encoding' and 'newline'.\u001b[39;00m\n\u001b[1;32m    871\u001b[0m     \u001b[38;5;28;01mif\u001b[39;00m ioargs\u001b[38;5;241m.\u001b[39mencoding \u001b[38;5;129;01mand\u001b[39;00m \u001b[38;5;124m\"\u001b[39m\u001b[38;5;124mb\u001b[39m\u001b[38;5;124m\"\u001b[39m \u001b[38;5;129;01mnot\u001b[39;00m \u001b[38;5;129;01min\u001b[39;00m ioargs\u001b[38;5;241m.\u001b[39mmode:\n\u001b[1;32m    872\u001b[0m         \u001b[38;5;66;03m# Encoding\u001b[39;00m\n\u001b[0;32m--> 873\u001b[0m         handle \u001b[38;5;241m=\u001b[39m \u001b[38;5;28mopen\u001b[39m(\n\u001b[1;32m    874\u001b[0m             handle,\n\u001b[1;32m    875\u001b[0m             ioargs\u001b[38;5;241m.\u001b[39mmode,\n\u001b[1;32m    876\u001b[0m             encoding\u001b[38;5;241m=\u001b[39mioargs\u001b[38;5;241m.\u001b[39mencoding,\n\u001b[1;32m    877\u001b[0m             errors\u001b[38;5;241m=\u001b[39merrors,\n\u001b[1;32m    878\u001b[0m             newline\u001b[38;5;241m=\u001b[39m\u001b[38;5;124m\"\u001b[39m\u001b[38;5;124m\"\u001b[39m,\n\u001b[1;32m    879\u001b[0m         )\n\u001b[1;32m    880\u001b[0m     \u001b[38;5;28;01melse\u001b[39;00m:\n\u001b[1;32m    881\u001b[0m         \u001b[38;5;66;03m# Binary mode\u001b[39;00m\n\u001b[1;32m    882\u001b[0m         handle \u001b[38;5;241m=\u001b[39m \u001b[38;5;28mopen\u001b[39m(handle, ioargs\u001b[38;5;241m.\u001b[39mmode)\n",
      "\u001b[0;31mFileNotFoundError\u001b[0m: [Errno 2] No such file or directory: 'games.csv'"
     ]
    }
   ],
   "source": [
    "import pandas as pd\n",
    "\n",
    "# Load our original games.csv\n",
    "df = pd.read_csv('games.csv')\n",
    "\n",
    "# Load our metadata with lines=True\n",
    "metadata = pd.read_json('games_metadata.json', lines=True)\n",
    "\n",
    "# Merge the two files on app_id\n",
    "merged_df = pd.merge(df, metadata, on='app_id')\n",
    "\n",
    "# Preview\n",
    "merged_df.head()"
   ]
  },
  {
   "cell_type": "code",
   "execution_count": null,
   "id": "42762e20",
   "metadata": {},
   "outputs": [
    {
     "name": "stderr",
     "output_type": "stream",
     "text": [
      "[nltk_data] Downloading package stopwords to\n",
      "[nltk_data]     C:\\Users\\loste\\AppData\\Roaming\\nltk_data...\n",
      "[nltk_data]   Package stopwords is already up-to-date!\n"
     ]
    },
    {
     "data": {
      "text/html": [
       "<div>\n",
       "<style scoped>\n",
       "    .dataframe tbody tr th:only-of-type {\n",
       "        vertical-align: middle;\n",
       "    }\n",
       "\n",
       "    .dataframe tbody tr th {\n",
       "        vertical-align: top;\n",
       "    }\n",
       "\n",
       "    .dataframe thead th {\n",
       "        text-align: right;\n",
       "    }\n",
       "</style>\n",
       "<table border=\"1\" class=\"dataframe\">\n",
       "  <thead>\n",
       "    <tr style=\"text-align: right;\">\n",
       "      <th></th>\n",
       "      <th>title</th>\n",
       "      <th>clean_description</th>\n",
       "    </tr>\n",
       "  </thead>\n",
       "  <tbody>\n",
       "    <tr>\n",
       "      <th>0</th>\n",
       "      <td>Prince of Persia: Warrior Within™</td>\n",
       "      <td>enter dark underworld prince persia warrior wi...</td>\n",
       "    </tr>\n",
       "    <tr>\n",
       "      <th>1</th>\n",
       "      <td>BRINK: Agents of Change</td>\n",
       "      <td></td>\n",
       "    </tr>\n",
       "    <tr>\n",
       "      <th>2</th>\n",
       "      <td>Monaco: What's Yours Is Mine</td>\n",
       "      <td>monaco whats mine single player coop heist gam...</td>\n",
       "    </tr>\n",
       "    <tr>\n",
       "      <th>3</th>\n",
       "      <td>Escape Dead Island</td>\n",
       "      <td>escape dead island survivalmystery adventure l...</td>\n",
       "    </tr>\n",
       "    <tr>\n",
       "      <th>4</th>\n",
       "      <td>Dungeon of the ENDLESS™</td>\n",
       "      <td>dungeon endless roguelike dungeondefense game ...</td>\n",
       "    </tr>\n",
       "  </tbody>\n",
       "</table>\n",
       "</div>"
      ],
      "text/plain": [
       "                               title  \\\n",
       "0  Prince of Persia: Warrior Within™   \n",
       "1            BRINK: Agents of Change   \n",
       "2       Monaco: What's Yours Is Mine   \n",
       "3                 Escape Dead Island   \n",
       "4            Dungeon of the ENDLESS™   \n",
       "\n",
       "                                   clean_description  \n",
       "0  enter dark underworld prince persia warrior wi...  \n",
       "1                                                     \n",
       "2  monaco whats mine single player coop heist gam...  \n",
       "3  escape dead island survivalmystery adventure l...  \n",
       "4  dungeon endless roguelike dungeondefense game ...  "
      ]
     },
     "execution_count": 2,
     "metadata": {},
     "output_type": "execute_result"
    }
   ],
   "source": [
    "import re\n",
    "import nltk\n",
    "from nltk.corpus import stopwords\n",
    "\n",
    "# Download stopwords \n",
    "nltk.download('stopwords')\n",
    "\n",
    "# Set of English stopwords\n",
    "stop_words = set(stopwords.words('english'))\n",
    "\n",
    "# Function to clean text\n",
    "def clean_text(text):\n",
    "    if isinstance(text, str):\n",
    "        text = text.lower()  # Lowercase text\n",
    "        text = re.sub(r'[^a-zA-Z0-9\\s]', '', text)  # Remove punctuation\n",
    "        text = ' '.join([word for word in text.split() if word not in stop_words])  # Remove stopwords\n",
    "        return text\n",
    "    else:\n",
    "        return \"\"\n",
    "\n",
    "# Apply cleaning to the description column\n",
    "merged_df['clean_description'] = merged_df['description'].apply(clean_text)\n",
    "\n",
    "# Show first few cleaned descriptions\n",
    "merged_df[['title', 'clean_description']].head()"
   ]
  },
  {
   "cell_type": "code",
   "execution_count": null,
   "id": "29b489d7",
   "metadata": {},
   "outputs": [
    {
     "data": {
      "text/plain": [
       "(50872, 5000)"
      ]
     },
     "execution_count": 12,
     "metadata": {},
     "output_type": "execute_result"
    }
   ],
   "source": [
    "from sklearn.feature_extraction.text import TfidfVectorizer\n",
    "\n",
    "# Initialize TF-IDF Vectorizer\n",
    "tfidf = TfidfVectorizer(max_features=5000)  \n",
    "\n",
    "# Fit and transform the clean descriptions\n",
    "tfidf_matrix = tfidf.fit_transform(merged_df['clean_description'])\n",
    "\n",
    "# Check the shape of the TF-IDF matrix\n",
    "tfidf_matrix.shape\n"
   ]
  },
  {
   "cell_type": "code",
   "execution_count": null,
   "id": "23fc204d",
   "metadata": {},
   "outputs": [
    {
     "data": {
      "text/plain": [
       "(2000, 2000)"
      ]
     },
     "execution_count": 3,
     "metadata": {},
     "output_type": "execute_result"
    }
   ],
   "source": [
    "from sklearn.feature_extraction.text import TfidfVectorizer\n",
    "from sklearn.metrics.pairwise import cosine_similarity\n",
    "\n",
    "# Sample ~2000 games for memory-friendly computation\n",
    "sampled_df = merged_df.sample(n=2000, random_state=42)\n",
    "\n",
    "# Re-run TF-IDF on the smaller sample\n",
    "tfidf = TfidfVectorizer(max_features=5000)\n",
    "tfidf_matrix = tfidf.fit_transform(sampled_df['clean_description'])\n",
    "\n",
    "# Now compute cosine similarity safely\n",
    "cosine_sim = cosine_similarity(tfidf_matrix)\n",
    "\n",
    "# Check the shape of our similarity matrix\n",
    "cosine_sim.shape\n"
   ]
  },
  {
   "cell_type": "code",
   "execution_count": null,
   "id": "878d3cbd",
   "metadata": {},
   "outputs": [],
   "source": [
    "# Function to get game recommendations\n",
    "def recommend_games(title, top_n=5):\n",
    "    # Reset index to make sure we can look things up by row\n",
    "    sampled_df.reset_index(drop=True, inplace=True)\n",
    "\n",
    "    # Find the index of the given game title\n",
    "    if title not in sampled_df['title'].values:\n",
    "        return f\"'{title}' not found in sample set.\"\n",
    "\n",
    "    idx = sampled_df[sampled_df['title'] == title].index[0]\n",
    "\n",
    "    # Get pairwise similarity scores for that game\n",
    "    sim_scores = list(enumerate(cosine_sim[idx]))\n",
    "\n",
    "    # Sort scores in descending order, skip the first (it's the game itself)\n",
    "    sim_scores = sorted(sim_scores, key=lambda x: x[1], reverse=True)[1:top_n+1]\n",
    "\n",
    "    # Get the indexes of the most similar games\n",
    "    game_indices = [i[0] for i in sim_scores]\n",
    "\n",
    "    # Return the top N most similar games\n",
    "    return sampled_df.iloc[game_indices][['title', 'genres', 'price']]\n"
   ]
  },
  {
   "cell_type": "code",
   "execution_count": null,
   "id": "03cd2279",
   "metadata": {},
   "outputs": [
    {
     "data": {
      "text/plain": [
       "\"'Prince of Persia: Warrior Within™' not found in sample set.\""
      ]
     },
     "execution_count": 5,
     "metadata": {},
     "output_type": "execute_result"
    }
   ],
   "source": [
    "recommend_games(\"Prince of Persia: Warrior Within™\", top_n=5)\n"
   ]
  },
  {
   "cell_type": "code",
   "execution_count": null,
   "id": "2496fea1",
   "metadata": {},
   "outputs": [
    {
     "data": {
      "text/plain": [
       "0                                         #SelfieTennis\n",
       "1                                         //TODO: today\n",
       "2                                   100 hidden eternals\n",
       "3                                                  100$\n",
       "4     100% Orange Juice - Sora & Sham (Cuties) Chara...\n",
       "5     100% Orange Juice - Tsih & Tequila Character Pack\n",
       "6                        100% Orange Juice - Witch Pack\n",
       "7                                                 1000$\n",
       "8                       1001 Jigsaw: Earth Chronicles 2\n",
       "9                          180 Files: The Aegis Project\n",
       "10                                    1943 Berlin Blitz\n",
       "11                                                 1982\n",
       "12                                               1HEART\n",
       "13                         2022生存指南 2022 SURVIVAL GUIDE\n",
       "14                        22 Racing Series | RTS-Racing\n",
       "15                                    25 Cadre of Death\n",
       "16                                                2Dark\n",
       "17                             2MD: VR Football Classic\n",
       "18             3D Custom Lady Maker - Summer Style Pack\n",
       "19                                      3D Math - Ultra\n",
       "20                                               3DMark\n",
       "21                            3DMark Port Royal upgrade\n",
       "22                                          60 Seconds!\n",
       "23                                        6th Dimension\n",
       "24                                             7th Deep\n",
       "25                                           7th Sector\n",
       "26                                         8-Bit Armies\n",
       "27                                     8/8/88 Needle AL\n",
       "28                                   A Boy and His Blob\n",
       "29                                                A Day\n",
       "30                                  A HERO AND A GARDEN\n",
       "31                                     A Juggler's Tale\n",
       "32                      A Space for the Unbound Artbook\n",
       "33                            A Tale of Paper: Refolded\n",
       "34                 A Trip to Yugoslavia: Director's Cut\n",
       "35                                              A.N.N.E\n",
       "36                                               ABE VR\n",
       "37                                          ACE Academy\n",
       "38           AFFECTED: The Manor - The Complete Edition\n",
       "39                               AGOS - A Game Of Space\n",
       "40                                             AIRBORNE\n",
       "41                                      AM Model Viewer\n",
       "42                                                 AMOK\n",
       "43                                               AQtion\n",
       "44              ARK: Genesis Part 2 Original Soundtrack\n",
       "45                               ARMA: Cold War Assault\n",
       "46                                 ASTRALODE Freeminers\n",
       "47                                            ASTROKILL\n",
       "48                                                ATLAS\n",
       "49                            ATOM RPG - Supporter Pack\n",
       "Name: title, dtype: object"
      ]
     },
     "execution_count": 6,
     "metadata": {},
     "output_type": "execute_result"
    }
   ],
   "source": [
    "sampled_df['title'].sort_values().reset_index(drop=True).head(50)\n"
   ]
  },
  {
   "cell_type": "code",
   "execution_count": null,
   "id": "8e723a79",
   "metadata": {},
   "outputs": [
    {
     "data": {
      "text/plain": [
       "Index(['app_id', 'title', 'date_release', 'win', 'mac', 'linux', 'rating',\n",
       "       'positive_ratio', 'user_reviews', 'price_final', 'price_original',\n",
       "       'discount', 'steam_deck', 'description', 'tags', 'clean_description'],\n",
       "      dtype='object')"
      ]
     },
     "execution_count": 8,
     "metadata": {},
     "output_type": "execute_result"
    }
   ],
   "source": [
    "sampled_df.columns\n"
   ]
  },
  {
   "cell_type": "code",
   "execution_count": null,
   "id": "1e8fa298",
   "metadata": {},
   "outputs": [],
   "source": [
    "def recommend_games(title, top_n=5):\n",
    "    sampled_df.reset_index(drop=True, inplace=True)\n",
    "\n",
    "    if title not in sampled_df['title'].values:\n",
    "        return f\"'{title}' not found in sample set.\"\n",
    "\n",
    "    idx = sampled_df[sampled_df['title'] == title].index[0]\n",
    "    sim_scores = list(enumerate(cosine_sim[idx]))\n",
    "    sim_scores = sorted(sim_scores, key=lambda x: x[1], reverse=True)[1:top_n+1]\n",
    "    game_indices = [i[0] for i in sim_scores]\n",
    "\n",
    "    # Return relevant info you actually have\n",
    "    return sampled_df.iloc[game_indices][['title', 'tags', 'price_final']]\n"
   ]
  },
  {
   "cell_type": "code",
   "execution_count": null,
   "id": "6b663919",
   "metadata": {},
   "outputs": [
    {
     "data": {
      "text/html": [
       "<div>\n",
       "<style scoped>\n",
       "    .dataframe tbody tr th:only-of-type {\n",
       "        vertical-align: middle;\n",
       "    }\n",
       "\n",
       "    .dataframe tbody tr th {\n",
       "        vertical-align: top;\n",
       "    }\n",
       "\n",
       "    .dataframe thead th {\n",
       "        text-align: right;\n",
       "    }\n",
       "</style>\n",
       "<table border=\"1\" class=\"dataframe\">\n",
       "  <thead>\n",
       "    <tr style=\"text-align: right;\">\n",
       "      <th></th>\n",
       "      <th>title</th>\n",
       "      <th>tags</th>\n",
       "      <th>price_final</th>\n",
       "    </tr>\n",
       "  </thead>\n",
       "  <tbody>\n",
       "    <tr>\n",
       "      <th>319</th>\n",
       "      <td>Iron Fisticle</td>\n",
       "      <td>[Action, Indie, Local Co-Op, 2D, Twin Stick Sh...</td>\n",
       "      <td>8.99</td>\n",
       "    </tr>\n",
       "    <tr>\n",
       "      <th>325</th>\n",
       "      <td>Zombie Arena</td>\n",
       "      <td>[Early Access, Wargame, FPS, PvE, PvP, Shooter...</td>\n",
       "      <td>0.37</td>\n",
       "    </tr>\n",
       "    <tr>\n",
       "      <th>950</th>\n",
       "      <td>Warhammer 40000: Dawn of War III</td>\n",
       "      <td>[Warhammer 40K, Strategy, RTS, Sci-fi, Multipl...</td>\n",
       "      <td>39.99</td>\n",
       "    </tr>\n",
       "    <tr>\n",
       "      <th>176</th>\n",
       "      <td>FIREGROUND Modern War</td>\n",
       "      <td>[Exploration, Arena Shooter, Spectacle fighter...</td>\n",
       "      <td>0.49</td>\n",
       "    </tr>\n",
       "    <tr>\n",
       "      <th>1478</th>\n",
       "      <td>Sky Battles</td>\n",
       "      <td>[Action, Indie, Strategy, Flight, Simulation, ...</td>\n",
       "      <td>3.99</td>\n",
       "    </tr>\n",
       "  </tbody>\n",
       "</table>\n",
       "</div>"
      ],
      "text/plain": [
       "                                 title  \\\n",
       "319                      Iron Fisticle   \n",
       "325                       Zombie Arena   \n",
       "950   Warhammer 40000: Dawn of War III   \n",
       "176              FIREGROUND Modern War   \n",
       "1478                       Sky Battles   \n",
       "\n",
       "                                                   tags  price_final  \n",
       "319   [Action, Indie, Local Co-Op, 2D, Twin Stick Sh...         8.99  \n",
       "325   [Early Access, Wargame, FPS, PvE, PvP, Shooter...         0.37  \n",
       "950   [Warhammer 40K, Strategy, RTS, Sci-fi, Multipl...        39.99  \n",
       "176   [Exploration, Arena Shooter, Spectacle fighter...         0.49  \n",
       "1478  [Action, Indie, Strategy, Flight, Simulation, ...         3.99  "
      ]
     },
     "execution_count": 10,
     "metadata": {},
     "output_type": "execute_result"
    }
   ],
   "source": [
    "recommend_games(\"ASTROKILL\", top_n=5)\n"
   ]
  },
  {
   "cell_type": "code",
   "execution_count": null,
   "id": "e57e007e",
   "metadata": {},
   "outputs": [],
   "source": [
    "# Define keyword groups for different moods\n",
    "mood_keywords = {\n",
    "    'Relaxed': ['relaxing', 'casual', 'chill', 'peaceful', 'cozy'],\n",
    "    'Intense': ['intense', 'adrenaline', 'combat', 'fast-paced', 'chaotic'],\n",
    "    'Emotional': ['emotional', 'story', 'journey', 'heartfelt', 'narrative'],\n",
    "    'Scary': ['horror', 'dark', 'scary', 'fear', 'terrifying'],\n",
    "    'Strategic': ['Strategy', 'tactical', 'puzzle', 'planning'],\n",
    "    'Funny': ['funny', 'humor', 'comedy', 'wacky'],\n",
    "}\n"
   ]
  },
  {
   "cell_type": "code",
   "execution_count": null,
   "id": "9f288c12",
   "metadata": {},
   "outputs": [],
   "source": [
    "def assign_mood(description):\n",
    "    if not isinstance(description, str):\n",
    "        return 'Unknown'\n",
    "    \n",
    "    description = description.lower()\n",
    "    for mood, keywords in mood_keywords.items():\n",
    "        for word in keywords:\n",
    "            if word in description:\n",
    "                return mood\n",
    "    return 'Unknown'\n"
   ]
  },
  {
   "cell_type": "code",
   "execution_count": null,
   "id": "5674c002",
   "metadata": {},
   "outputs": [
    {
     "data": {
      "text/html": [
       "<div>\n",
       "<style scoped>\n",
       "    .dataframe tbody tr th:only-of-type {\n",
       "        vertical-align: middle;\n",
       "    }\n",
       "\n",
       "    .dataframe tbody tr th {\n",
       "        vertical-align: top;\n",
       "    }\n",
       "\n",
       "    .dataframe thead th {\n",
       "        text-align: right;\n",
       "    }\n",
       "</style>\n",
       "<table border=\"1\" class=\"dataframe\">\n",
       "  <thead>\n",
       "    <tr style=\"text-align: right;\">\n",
       "      <th></th>\n",
       "      <th>title</th>\n",
       "      <th>mood</th>\n",
       "    </tr>\n",
       "  </thead>\n",
       "  <tbody>\n",
       "    <tr>\n",
       "      <th>0</th>\n",
       "      <td>Super Blackjack Battle 2 Turbo Edition - The C...</td>\n",
       "      <td>Unknown</td>\n",
       "    </tr>\n",
       "    <tr>\n",
       "      <th>1</th>\n",
       "      <td>Galactic Dominion</td>\n",
       "      <td>Emotional</td>\n",
       "    </tr>\n",
       "    <tr>\n",
       "      <th>2</th>\n",
       "      <td>Watching Delusion</td>\n",
       "      <td>Strategic</td>\n",
       "    </tr>\n",
       "    <tr>\n",
       "      <th>3</th>\n",
       "      <td>Long Road</td>\n",
       "      <td>Unknown</td>\n",
       "    </tr>\n",
       "    <tr>\n",
       "      <th>4</th>\n",
       "      <td>The Mutational</td>\n",
       "      <td>Unknown</td>\n",
       "    </tr>\n",
       "    <tr>\n",
       "      <th>5</th>\n",
       "      <td>Flying Neko Delivery</td>\n",
       "      <td>Unknown</td>\n",
       "    </tr>\n",
       "    <tr>\n",
       "      <th>6</th>\n",
       "      <td>Breach &amp; Clear: Deadline Rebirth (2016)</td>\n",
       "      <td>Strategic</td>\n",
       "    </tr>\n",
       "    <tr>\n",
       "      <th>7</th>\n",
       "      <td>Forza Horizon 5 2014 SafariZ 370Z</td>\n",
       "      <td>Unknown</td>\n",
       "    </tr>\n",
       "    <tr>\n",
       "      <th>8</th>\n",
       "      <td>Heroes Of Avranche</td>\n",
       "      <td>Unknown</td>\n",
       "    </tr>\n",
       "    <tr>\n",
       "      <th>9</th>\n",
       "      <td>Formata</td>\n",
       "      <td>Unknown</td>\n",
       "    </tr>\n",
       "  </tbody>\n",
       "</table>\n",
       "</div>"
      ],
      "text/plain": [
       "                                               title       mood\n",
       "0  Super Blackjack Battle 2 Turbo Edition - The C...    Unknown\n",
       "1                                  Galactic Dominion  Emotional\n",
       "2                                  Watching Delusion  Strategic\n",
       "3                                          Long Road    Unknown\n",
       "4                                     The Mutational    Unknown\n",
       "5                               Flying Neko Delivery    Unknown\n",
       "6            Breach & Clear: Deadline Rebirth (2016)  Strategic\n",
       "7                  Forza Horizon 5 2014 SafariZ 370Z    Unknown\n",
       "8                                 Heroes Of Avranche    Unknown\n",
       "9                                            Formata    Unknown"
      ]
     },
     "execution_count": 13,
     "metadata": {},
     "output_type": "execute_result"
    }
   ],
   "source": [
    "# Add mood column to sampled_df\n",
    "sampled_df['mood'] = sampled_df['description'].apply(assign_mood)\n",
    "\n",
    "# Preview\n",
    "sampled_df[['title', 'mood']].head(10)\n"
   ]
  }
 ],
 "metadata": {
  "kernelspec": {
   "display_name": "base",
   "language": "python",
   "name": "python3"
  },
  "language_info": {
   "codemirror_mode": {
    "name": "ipython",
    "version": 3
   },
   "file_extension": ".py",
   "mimetype": "text/x-python",
   "name": "python",
   "nbconvert_exporter": "python",
   "pygments_lexer": "ipython3",
   "version": "3.12.7"
  }
 },
 "nbformat": 4,
 "nbformat_minor": 5
}
